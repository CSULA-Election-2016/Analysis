{
 "cells": [
  {
   "cell_type": "markdown",
   "metadata": {},
   "source": [
    "## Twitter User Influence Analytics for 4/19 - 5/9"
   ]
  },
  {
   "cell_type": "code",
   "execution_count": 162,
   "metadata": {
    "collapsed": false
   },
   "outputs": [],
   "source": [
    "import csv \n",
    "import matplotlib.pyplot as plt\n",
    "import pandas as pd\n",
    "import numpy as np\n",
    "df = pd.read_csv('data/4_19-5_9.csv', quoting=csv.QUOTE_NONE, encoding='utf-8')\n",
    "%matplotlib inline"
   ]
  },
  {
   "cell_type": "code",
   "execution_count": 163,
   "metadata": {
    "collapsed": false,
    "scrolled": true
   },
   "outputs": [
    {
     "data": {
      "text/html": [
       "<style>body {\r\n",
       "    margin: 0;\r\n",
       "    font-family: Helvetica;\r\n",
       "}\r\n",
       "table.dataframe {\r\n",
       "    border-collapse: collapse;\r\n",
       "    border: none;\r\n",
       "}\r\n",
       "table.dataframe tr {\r\n",
       "    border: none;\r\n",
       "}\r\n",
       "table.dataframe td, table.dataframe th {\r\n",
       "    margin: 0;\r\n",
       "    border: 1px solid white;\r\n",
       "    padding-left: 0.25em;\r\n",
       "    padding-right: 0.25em;\r\n",
       "}\r\n",
       "table.dataframe th:not(:empty) {\r\n",
       "    background-color: #fec;\r\n",
       "    text-align: left;\r\n",
       "    font-weight: normal;\r\n",
       "}\r\n",
       "table.dataframe tr:nth-child(2) th:empty {\r\n",
       "    border-left: none;\r\n",
       "    border-right: 1px dashed #888;\r\n",
       "}\r\n",
       "table.dataframe td {\r\n",
       "    border: 2px solid #ccf;\r\n",
       "    background-color: #f4f4ff;\r\n",
       "}\r\n",
       "h3 {\r\n",
       "    color: white;\r\n",
       "    background-color: black;\r\n",
       "    padding: 0.5em;\r\n",
       "}\r\n",
       "</style>"
      ],
      "text/plain": [
       "<IPython.core.display.HTML object>"
      ]
     },
     "execution_count": 163,
     "metadata": {},
     "output_type": "execute_result"
    }
   ],
   "source": [
    "from IPython.core.display import HTML\n",
    "css = open('css/style-table.css').read() + open('css/style-notebook.css').read()\n",
    "HTML('<style>{}</style>'.format(css))"
   ]
  },
  {
   "cell_type": "code",
   "execution_count": 164,
   "metadata": {
    "collapsed": false,
    "scrolled": true
   },
   "outputs": [
    {
     "data": {
      "text/html": [
       "<div>\n",
       "<table border=\"1\" class=\"dataframe\">\n",
       "  <thead>\n",
       "    <tr style=\"text-align: right;\">\n",
       "      <th></th>\n",
       "      <th>id</th>\n",
       "      <th>date</th>\n",
       "      <th>text</th>\n",
       "      <th>retweet_count</th>\n",
       "      <th>favorite_count</th>\n",
       "      <th>coordinates_lat</th>\n",
       "      <th>coordinates_long</th>\n",
       "      <th>user_screen_name</th>\n",
       "      <th>user_created_at</th>\n",
       "      <th>user_location</th>\n",
       "      <th>user_description</th>\n",
       "      <th>user_followers_count</th>\n",
       "      <th>user_friends_count</th>\n",
       "      <th>user_listed_count</th>\n",
       "      <th>user_favorites_count</th>\n",
       "      <th>user_statuses_count</th>\n",
       "    </tr>\n",
       "  </thead>\n",
       "  <tbody>\n",
       "    <tr>\n",
       "      <th>0</th>\n",
       "      <td>724826943858855938</td>\n",
       "      <td>Mon Apr 25 22:06:24 PDT 2016</td>\n",
       "      <td>\"He would be annihilated. He would not win a s...</td>\n",
       "      <td>1.0</td>\n",
       "      <td>2.0</td>\n",
       "      <td>NaN</td>\n",
       "      <td>NaN</td>\n",
       "      <td>Waycooljr62</td>\n",
       "      <td>Mon Feb 22 22:36:43 PST 2016</td>\n",
       "      <td>Salem  OR</td>\n",
       "      <td>Single 53 y/o man from the Pacific Northwest. ...</td>\n",
       "      <td>288.0</td>\n",
       "      <td>276.0</td>\n",
       "      <td>9.0</td>\n",
       "      <td>1831.0</td>\n",
       "      <td>2644.0</td>\n",
       "    </tr>\n",
       "  </tbody>\n",
       "</table>\n",
       "</div>"
      ],
      "text/plain": [
       "                   id                          date  \\\n",
       "0  724826943858855938  Mon Apr 25 22:06:24 PDT 2016   \n",
       "\n",
       "                                                text  retweet_count  \\\n",
       "0  \"He would be annihilated. He would not win a s...            1.0   \n",
       "\n",
       "   favorite_count  coordinates_lat  coordinates_long user_screen_name  \\\n",
       "0             2.0              NaN               NaN      Waycooljr62   \n",
       "\n",
       "                user_created_at user_location  \\\n",
       "0  Mon Feb 22 22:36:43 PST 2016     Salem  OR   \n",
       "\n",
       "                                    user_description  user_followers_count  \\\n",
       "0  Single 53 y/o man from the Pacific Northwest. ...                 288.0   \n",
       "\n",
       "   user_friends_count  user_listed_count  user_favorites_count  \\\n",
       "0               276.0                9.0                1831.0   \n",
       "\n",
       "   user_statuses_count  \n",
       "0               2644.0  "
      ]
     },
     "execution_count": 164,
     "metadata": {},
     "output_type": "execute_result"
    }
   ],
   "source": [
    "df.head(1)"
   ]
  },
  {
   "cell_type": "code",
   "execution_count": 203,
   "metadata": {
    "collapsed": false
   },
   "outputs": [],
   "source": [
    "ave_retweet_count = df[df['retweet_count'].notnull()]['retweet_count'].mean()\n",
    "ave_favorite_count = df[df['favorite_count'].notnull()]['favorite_count'].mean()\n",
    "ave_followers_count = df[df['user_followers_count'].notnull()]['retweet_count'].mean()"
   ]
  },
  {
   "cell_type": "code",
   "execution_count": 204,
   "metadata": {
    "collapsed": false
   },
   "outputs": [
    {
     "data": {
      "text/plain": [
       "78.185112795090745"
      ]
     },
     "execution_count": 204,
     "metadata": {},
     "output_type": "execute_result"
    }
   ],
   "source": [
    "ave_retweet_count"
   ]
  },
  {
   "cell_type": "code",
   "execution_count": 205,
   "metadata": {
    "collapsed": false
   },
   "outputs": [
    {
     "data": {
      "text/plain": [
       "96.102006944596098"
      ]
     },
     "execution_count": 205,
     "metadata": {},
     "output_type": "execute_result"
    }
   ],
   "source": [
    "ave_favorite_count"
   ]
  },
  {
   "cell_type": "code",
   "execution_count": 206,
   "metadata": {
    "collapsed": false
   },
   "outputs": [
    {
     "data": {
      "text/plain": [
       "78.185112795090745"
      ]
     },
     "execution_count": 206,
     "metadata": {},
     "output_type": "execute_result"
    }
   ],
   "source": [
    "ave_followers_count"
   ]
  },
  {
   "cell_type": "markdown",
   "metadata": {},
   "source": [
    "### Important people"
   ]
  },
  {
   "cell_type": "markdown",
   "metadata": {},
   "source": [
    "greater than (ave_retweet_count, ave_favorite_count, ave_followers_count)\n"
   ]
  },
  {
   "cell_type": "code",
   "execution_count": 216,
   "metadata": {
    "collapsed": false
   },
   "outputs": [],
   "source": [
    "imp = df[(df['retweet_count'] > ave_retweet_count) & (df['favorite_count'] > ave_favorite_count) & (df['user_followers_count'] > zz)]"
   ]
  },
  {
   "cell_type": "code",
   "execution_count": 217,
   "metadata": {
    "collapsed": false
   },
   "outputs": [
    {
     "data": {
      "text/html": [
       "<div>\n",
       "<table border=\"1\" class=\"dataframe\">\n",
       "  <thead>\n",
       "    <tr style=\"text-align: right;\">\n",
       "      <th></th>\n",
       "      <th>id</th>\n",
       "      <th>date</th>\n",
       "      <th>text</th>\n",
       "      <th>retweet_count</th>\n",
       "      <th>favorite_count</th>\n",
       "      <th>coordinates_lat</th>\n",
       "      <th>coordinates_long</th>\n",
       "      <th>user_screen_name</th>\n",
       "      <th>user_created_at</th>\n",
       "      <th>user_location</th>\n",
       "      <th>user_description</th>\n",
       "      <th>user_followers_count</th>\n",
       "      <th>user_friends_count</th>\n",
       "      <th>user_listed_count</th>\n",
       "      <th>user_favorites_count</th>\n",
       "      <th>user_statuses_count</th>\n",
       "    </tr>\n",
       "  </thead>\n",
       "  <tbody>\n",
       "    <tr>\n",
       "      <th>38</th>\n",
       "      <td>725644176566661121</td>\n",
       "      <td>Thu Apr 28 04:13:48 PDT 2016</td>\n",
       "      <td>\"The Media won't be satisfied until Trump give...</td>\n",
       "      <td>258.0</td>\n",
       "      <td>459.0</td>\n",
       "      <td>NaN</td>\n",
       "      <td>NaN</td>\n",
       "      <td>mitchellvii</td>\n",
       "      <td>Mon Dec 08 17:54:21 PST 2008</td>\n",
       "      <td>Charlotte  NC</td>\n",
       "      <td>Trump is MAGA! Make sure to catch me co-hostin...</td>\n",
       "      <td>45589.0</td>\n",
       "      <td>3501.0</td>\n",
       "      <td>543.0</td>\n",
       "      <td>10090.0</td>\n",
       "      <td>52641.0</td>\n",
       "    </tr>\n",
       "  </tbody>\n",
       "</table>\n",
       "</div>"
      ],
      "text/plain": [
       "                    id                          date  \\\n",
       "38  725644176566661121  Thu Apr 28 04:13:48 PDT 2016   \n",
       "\n",
       "                                                 text  retweet_count  \\\n",
       "38  \"The Media won't be satisfied until Trump give...          258.0   \n",
       "\n",
       "    favorite_count  coordinates_lat  coordinates_long user_screen_name  \\\n",
       "38           459.0              NaN               NaN      mitchellvii   \n",
       "\n",
       "                 user_created_at  user_location  \\\n",
       "38  Mon Dec 08 17:54:21 PST 2008  Charlotte  NC   \n",
       "\n",
       "                                     user_description  user_followers_count  \\\n",
       "38  Trump is MAGA! Make sure to catch me co-hostin...               45589.0   \n",
       "\n",
       "    user_friends_count  user_listed_count  user_favorites_count  \\\n",
       "38              3501.0              543.0               10090.0   \n",
       "\n",
       "    user_statuses_count  \n",
       "38              52641.0  "
      ]
     },
     "execution_count": 217,
     "metadata": {},
     "output_type": "execute_result"
    }
   ],
   "source": [
    "imp.head(1)"
   ]
  },
  {
   "cell_type": "code",
   "execution_count": 218,
   "metadata": {
    "collapsed": false
   },
   "outputs": [
    {
     "data": {
      "text/plain": [
       "6154"
      ]
     },
     "execution_count": 218,
     "metadata": {},
     "output_type": "execute_result"
    }
   ],
   "source": [
    "len(imp)"
   ]
  },
  {
   "cell_type": "markdown",
   "metadata": {},
   "source": [
    "#### Average Number of Followers"
   ]
  },
  {
   "cell_type": "code",
   "execution_count": 219,
   "metadata": {
    "collapsed": false,
    "scrolled": false
   },
   "outputs": [
    {
     "data": {
      "text/plain": [
       "981740.33"
      ]
     },
     "execution_count": 219,
     "metadata": {},
     "output_type": "execute_result"
    }
   ],
   "source": [
    "ave_fol = imp['user_followers_count'].mean()\n",
    "round(ave_fol, 2)"
   ]
  },
  {
   "cell_type": "markdown",
   "metadata": {},
   "source": [
    "#### Average Number of Friends"
   ]
  },
  {
   "cell_type": "code",
   "execution_count": 220,
   "metadata": {
    "collapsed": false,
    "scrolled": true
   },
   "outputs": [
    {
     "data": {
      "text/plain": [
       "11799.34"
      ]
     },
     "execution_count": 220,
     "metadata": {},
     "output_type": "execute_result"
    }
   ],
   "source": [
    "ave_fri = imp['user_friends_count'].mean()\n",
    "round(ave_fri, 2)"
   ]
  },
  {
   "cell_type": "markdown",
   "metadata": {},
   "source": [
    "#### Average Star ratio"
   ]
  },
  {
   "cell_type": "code",
   "execution_count": 221,
   "metadata": {
    "collapsed": false,
    "scrolled": true
   },
   "outputs": [
    {
     "data": {
      "text/plain": [
       "83.2"
      ]
     },
     "execution_count": 221,
     "metadata": {},
     "output_type": "execute_result"
    }
   ],
   "source": [
    "ave_star = ave_fol / ave_fri\n",
    "round(ave_star, 2)"
   ]
  },
  {
   "cell_type": "markdown",
   "metadata": {},
   "source": [
    "#### Average Number of groups they are in"
   ]
  },
  {
   "cell_type": "code",
   "execution_count": 222,
   "metadata": {
    "collapsed": false
   },
   "outputs": [
    {
     "data": {
      "text/plain": [
       "6261.57"
      ]
     },
     "execution_count": 222,
     "metadata": {},
     "output_type": "execute_result"
    }
   ],
   "source": [
    "ave_list = imp['user_listed_count'].mean()\n",
    "round(ave_list, 2)"
   ]
  },
  {
   "cell_type": "markdown",
   "metadata": {},
   "source": [
    "#### Average Number of Statuses they posted"
   ]
  },
  {
   "cell_type": "code",
   "execution_count": 223,
   "metadata": {
    "collapsed": false
   },
   "outputs": [
    {
     "data": {
      "text/plain": [
       "48592.05"
      ]
     },
     "execution_count": 223,
     "metadata": {},
     "output_type": "execute_result"
    }
   ],
   "source": [
    "ave_status = imp['user_statuses_count'].mean()\n",
    "round(ave_status, 2)"
   ]
  },
  {
   "cell_type": "markdown",
   "metadata": {},
   "source": [
    "#### Average Number of Tweets per Day"
   ]
  },
  {
   "cell_type": "code",
   "execution_count": 224,
   "metadata": {
    "collapsed": false
   },
   "outputs": [],
   "source": [
    "def parseDate(row):\n",
    "    a = parser.parse(row['date'])  \n",
    "    b = parser.parse(row['user_created_at'])\n",
    "    numDays = (a-b).days\n",
    "    if numDays != 0:\n",
    "        return row['user_statuses_count'] / numDays\n",
    "    else:\n",
    "        return row['user_statuses_count']\n",
    "    "
   ]
  },
  {
   "cell_type": "code",
   "execution_count": 225,
   "metadata": {
    "collapsed": false
   },
   "outputs": [
    {
     "name": "stderr",
     "output_type": "stream",
     "text": [
      "/home/samskim/miniconda2/envs/py27/lib/python2.7/site-packages/ipykernel/__main__.py:1: SettingWithCopyWarning: \n",
      "A value is trying to be set on a copy of a slice from a DataFrame.\n",
      "Try using .loc[row_indexer,col_indexer] = value instead\n",
      "\n",
      "See the caveats in the documentation: http://pandas.pydata.org/pandas-docs/stable/indexing.html#indexing-view-versus-copy\n",
      "  if __name__ == '__main__':\n"
     ]
    }
   ],
   "source": [
    "imp['tweets_per_day'] = imp.apply(parseDate, axis=1)"
   ]
  },
  {
   "cell_type": "code",
   "execution_count": 226,
   "metadata": {
    "collapsed": false
   },
   "outputs": [
    {
     "data": {
      "text/html": [
       "<div>\n",
       "<table border=\"1\" class=\"dataframe\">\n",
       "  <thead>\n",
       "    <tr style=\"text-align: right;\">\n",
       "      <th></th>\n",
       "      <th>id</th>\n",
       "      <th>date</th>\n",
       "      <th>text</th>\n",
       "      <th>retweet_count</th>\n",
       "      <th>favorite_count</th>\n",
       "      <th>coordinates_lat</th>\n",
       "      <th>coordinates_long</th>\n",
       "      <th>user_screen_name</th>\n",
       "      <th>user_created_at</th>\n",
       "      <th>user_location</th>\n",
       "      <th>user_description</th>\n",
       "      <th>user_followers_count</th>\n",
       "      <th>user_friends_count</th>\n",
       "      <th>user_listed_count</th>\n",
       "      <th>user_favorites_count</th>\n",
       "      <th>user_statuses_count</th>\n",
       "      <th>tweets_per_day</th>\n",
       "    </tr>\n",
       "  </thead>\n",
       "  <tbody>\n",
       "    <tr>\n",
       "      <th>38</th>\n",
       "      <td>725644176566661121</td>\n",
       "      <td>Thu Apr 28 04:13:48 PDT 2016</td>\n",
       "      <td>\"The Media won't be satisfied until Trump give...</td>\n",
       "      <td>258.0</td>\n",
       "      <td>459.0</td>\n",
       "      <td>NaN</td>\n",
       "      <td>NaN</td>\n",
       "      <td>mitchellvii</td>\n",
       "      <td>Mon Dec 08 17:54:21 PST 2008</td>\n",
       "      <td>Charlotte  NC</td>\n",
       "      <td>Trump is MAGA! Make sure to catch me co-hostin...</td>\n",
       "      <td>45589.0</td>\n",
       "      <td>3501.0</td>\n",
       "      <td>543.0</td>\n",
       "      <td>10090.0</td>\n",
       "      <td>52641.0</td>\n",
       "      <td>19.518354</td>\n",
       "    </tr>\n",
       "  </tbody>\n",
       "</table>\n",
       "</div>"
      ],
      "text/plain": [
       "                    id                          date  \\\n",
       "38  725644176566661121  Thu Apr 28 04:13:48 PDT 2016   \n",
       "\n",
       "                                                 text  retweet_count  \\\n",
       "38  \"The Media won't be satisfied until Trump give...          258.0   \n",
       "\n",
       "    favorite_count  coordinates_lat  coordinates_long user_screen_name  \\\n",
       "38           459.0              NaN               NaN      mitchellvii   \n",
       "\n",
       "                 user_created_at  user_location  \\\n",
       "38  Mon Dec 08 17:54:21 PST 2008  Charlotte  NC   \n",
       "\n",
       "                                     user_description  user_followers_count  \\\n",
       "38  Trump is MAGA! Make sure to catch me co-hostin...               45589.0   \n",
       "\n",
       "    user_friends_count  user_listed_count  user_favorites_count  \\\n",
       "38              3501.0              543.0               10090.0   \n",
       "\n",
       "    user_statuses_count  tweets_per_day  \n",
       "38              52641.0       19.518354  "
      ]
     },
     "execution_count": 226,
     "metadata": {},
     "output_type": "execute_result"
    }
   ],
   "source": [
    "imp.head(1)"
   ]
  },
  {
   "cell_type": "code",
   "execution_count": 227,
   "metadata": {
    "collapsed": false
   },
   "outputs": [
    {
     "data": {
      "text/plain": [
       "33.193429831181156"
      ]
     },
     "execution_count": 227,
     "metadata": {},
     "output_type": "execute_result"
    }
   ],
   "source": [
    "imp['tweets_per_day'].mean()"
   ]
  },
  {
   "cell_type": "markdown",
   "metadata": {},
   "source": [
    "#### Specify Location"
   ]
  },
  {
   "cell_type": "code",
   "execution_count": 228,
   "metadata": {
    "collapsed": false
   },
   "outputs": [],
   "source": [
    "imp_with_location = imp[(imp['user_location'].notnull()) | (imp['coordinates_lat'].notnull())]"
   ]
  },
  {
   "cell_type": "code",
   "execution_count": 229,
   "metadata": {
    "collapsed": false
   },
   "outputs": [
    {
     "data": {
      "text/plain": [
       "4942"
      ]
     },
     "execution_count": 229,
     "metadata": {},
     "output_type": "execute_result"
    }
   ],
   "source": [
    "len(imp_with_location)"
   ]
  },
  {
   "cell_type": "code",
   "execution_count": 234,
   "metadata": {
    "collapsed": false
   },
   "outputs": [
    {
     "data": {
      "text/plain": [
       "38          Charlotte  NC\n",
       "64        Progressive USA\n",
       "95     España. Marzo 2014\n",
       "100    Underground Bunker\n",
       "110              New York\n",
       "Name: user_location, dtype: object"
      ]
     },
     "execution_count": 234,
     "metadata": {},
     "output_type": "execute_result"
    }
   ],
   "source": [
    "imp_with_location['user_location'].head()"
   ]
  },
  {
   "cell_type": "code",
   "execution_count": null,
   "metadata": {
    "collapsed": true
   },
   "outputs": [],
   "source": []
  },
  {
   "cell_type": "code",
   "execution_count": null,
   "metadata": {
    "collapsed": true
   },
   "outputs": [],
   "source": []
  },
  {
   "cell_type": "code",
   "execution_count": null,
   "metadata": {
    "collapsed": true
   },
   "outputs": [],
   "source": []
  },
  {
   "cell_type": "code",
   "execution_count": null,
   "metadata": {
    "collapsed": true
   },
   "outputs": [],
   "source": []
  }
 ],
 "metadata": {
  "kernelspec": {
   "display_name": "Python 2",
   "language": "python",
   "name": "python2"
  },
  "language_info": {
   "codemirror_mode": {
    "name": "ipython",
    "version": 2
   },
   "file_extension": ".py",
   "mimetype": "text/x-python",
   "name": "python",
   "nbconvert_exporter": "python",
   "pygments_lexer": "ipython2",
   "version": "2.7.11"
  }
 },
 "nbformat": 4,
 "nbformat_minor": 0
}
